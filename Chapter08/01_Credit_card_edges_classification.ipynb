{
 "cells": [
  {
   "cell_type": "markdown",
   "metadata": {
    "id": "Z12nIL0GmtKF"
   },
   "source": [
    "# Machine learning for Credit Card Transactions"
   ]
  },
  {
   "cell_type": "code",
   "execution_count": 18,
   "metadata": {
    "id": "Plnw0bRc_Mks"
   },
   "outputs": [],
   "source": [
    "import os\n",
    "import math\n",
    "import numpy as np\n",
    "import networkx as nx\n",
    "import matplotlib.pyplot as plt\n",
    "%matplotlib inline\n",
    "\n",
    "default_edge_color = 'gray'\n",
    "default_node_color = '#407cc9'\n",
    "enhanced_node_color = '#f5b042'\n",
    "enhanced_edge_color = '#cc2f04'"
   ]
  },
  {
   "cell_type": "markdown",
   "metadata": {
    "id": "Vye1SbKAnI_A"
   },
   "source": [
    "## Load Dataset and build graph"
   ]
  },
  {
   "cell_type": "code",
   "execution_count": 19,
   "metadata": {
    "collapsed": true,
    "jupyter": {
     "outputs_hidden": true
    },
    "tags": []
   },
   "outputs": [
    {
     "data": {
      "text/html": [
       "<div>\n",
       "<style scoped>\n",
       "    .dataframe tbody tr th:only-of-type {\n",
       "        vertical-align: middle;\n",
       "    }\n",
       "\n",
       "    .dataframe tbody tr th {\n",
       "        vertical-align: top;\n",
       "    }\n",
       "\n",
       "    .dataframe thead th {\n",
       "        text-align: right;\n",
       "    }\n",
       "</style>\n",
       "<table border=\"1\" class=\"dataframe\">\n",
       "  <thead>\n",
       "    <tr style=\"text-align: right;\">\n",
       "      <th></th>\n",
       "      <th>Unnamed: 0</th>\n",
       "      <th>trans_date_trans_time</th>\n",
       "      <th>cc_num</th>\n",
       "      <th>merchant</th>\n",
       "      <th>category</th>\n",
       "      <th>amt</th>\n",
       "      <th>first</th>\n",
       "      <th>last</th>\n",
       "      <th>gender</th>\n",
       "      <th>street</th>\n",
       "      <th>...</th>\n",
       "      <th>lat</th>\n",
       "      <th>long</th>\n",
       "      <th>city_pop</th>\n",
       "      <th>job</th>\n",
       "      <th>dob</th>\n",
       "      <th>trans_num</th>\n",
       "      <th>unix_time</th>\n",
       "      <th>merch_lat</th>\n",
       "      <th>merch_long</th>\n",
       "      <th>is_fraud</th>\n",
       "    </tr>\n",
       "  </thead>\n",
       "  <tbody>\n",
       "    <tr>\n",
       "      <th>811778</th>\n",
       "      <td>811778</td>\n",
       "      <td>2019-12-07 10:55:06</td>\n",
       "      <td>676173792455</td>\n",
       "      <td>fraud_Zieme, Bode and Dooley</td>\n",
       "      <td>gas_transport</td>\n",
       "      <td>86.19</td>\n",
       "      <td>Brittany</td>\n",
       "      <td>Cox</td>\n",
       "      <td>F</td>\n",
       "      <td>07177 William Dale Apt. 547</td>\n",
       "      <td>...</td>\n",
       "      <td>34.0287</td>\n",
       "      <td>-118.4924</td>\n",
       "      <td>92043</td>\n",
       "      <td>Civil engineer, contracting</td>\n",
       "      <td>1961-04-25</td>\n",
       "      <td>f32d1f4b2a918f4c2f6acdc83033ee35</td>\n",
       "      <td>1354877706</td>\n",
       "      <td>33.287851</td>\n",
       "      <td>-118.740970</td>\n",
       "      <td>0</td>\n",
       "    </tr>\n",
       "    <tr>\n",
       "      <th>1101718</th>\n",
       "      <td>1101718</td>\n",
       "      <td>2020-04-03 13:10:06</td>\n",
       "      <td>30518206766474</td>\n",
       "      <td>fraud_Lind-Buckridge</td>\n",
       "      <td>entertainment</td>\n",
       "      <td>85.81</td>\n",
       "      <td>Tamara</td>\n",
       "      <td>Martinez</td>\n",
       "      <td>F</td>\n",
       "      <td>471 Marquez Prairie Suite 680</td>\n",
       "      <td>...</td>\n",
       "      <td>36.7154</td>\n",
       "      <td>-89.6287</td>\n",
       "      <td>1019</td>\n",
       "      <td>Aeronautical engineer</td>\n",
       "      <td>1979-01-26</td>\n",
       "      <td>f5dad8e2d7c39d81502d846a20286659</td>\n",
       "      <td>1364994606</td>\n",
       "      <td>36.539950</td>\n",
       "      <td>-89.857416</td>\n",
       "      <td>0</td>\n",
       "    </tr>\n",
       "    <tr>\n",
       "      <th>800013</th>\n",
       "      <td>800013</td>\n",
       "      <td>2019-12-04 07:07:04</td>\n",
       "      <td>4658490815480264</td>\n",
       "      <td>fraud_Hackett-Lueilwitz</td>\n",
       "      <td>grocery_pos</td>\n",
       "      <td>99.30</td>\n",
       "      <td>Tara</td>\n",
       "      <td>Richards</td>\n",
       "      <td>F</td>\n",
       "      <td>4879 Cristina Station</td>\n",
       "      <td>...</td>\n",
       "      <td>39.9636</td>\n",
       "      <td>-79.7853</td>\n",
       "      <td>184</td>\n",
       "      <td>Systems developer</td>\n",
       "      <td>1945-11-04</td>\n",
       "      <td>1d023bc78ab93ab65a35bbb53bcc67bd</td>\n",
       "      <td>1354604824</td>\n",
       "      <td>39.582872</td>\n",
       "      <td>-78.838550</td>\n",
       "      <td>0</td>\n",
       "    </tr>\n",
       "    <tr>\n",
       "      <th>398945</th>\n",
       "      <td>398945</td>\n",
       "      <td>2019-06-30 18:43:08</td>\n",
       "      <td>4716561796955522</td>\n",
       "      <td>fraud_Lynch-Wisozk</td>\n",
       "      <td>home</td>\n",
       "      <td>42.09</td>\n",
       "      <td>Lauren</td>\n",
       "      <td>Anderson</td>\n",
       "      <td>F</td>\n",
       "      <td>11014 Chad Lake Apt. 573</td>\n",
       "      <td>...</td>\n",
       "      <td>48.2777</td>\n",
       "      <td>-112.8456</td>\n",
       "      <td>743</td>\n",
       "      <td>Water engineer</td>\n",
       "      <td>1972-05-04</td>\n",
       "      <td>dbf6c06d3277438afdf7af883fb4285f</td>\n",
       "      <td>1341081788</td>\n",
       "      <td>48.310513</td>\n",
       "      <td>-112.837535</td>\n",
       "      <td>0</td>\n",
       "    </tr>\n",
       "    <tr>\n",
       "      <th>207455</th>\n",
       "      <td>207455</td>\n",
       "      <td>2019-04-15 19:57:49</td>\n",
       "      <td>3528407217576457</td>\n",
       "      <td>fraud_Fisher-Schowalter</td>\n",
       "      <td>shopping_net</td>\n",
       "      <td>4.24</td>\n",
       "      <td>Patricia</td>\n",
       "      <td>Leach</td>\n",
       "      <td>F</td>\n",
       "      <td>71309 Martinez Stravenue</td>\n",
       "      <td>...</td>\n",
       "      <td>36.4715</td>\n",
       "      <td>-82.4834</td>\n",
       "      <td>87124</td>\n",
       "      <td>Warden/ranger</td>\n",
       "      <td>1987-02-14</td>\n",
       "      <td>88814660aba0101b174e1e8137f4a7af</td>\n",
       "      <td>1334519869</td>\n",
       "      <td>37.329094</td>\n",
       "      <td>-82.070746</td>\n",
       "      <td>0</td>\n",
       "    </tr>\n",
       "    <tr>\n",
       "      <th>...</th>\n",
       "      <td>...</td>\n",
       "      <td>...</td>\n",
       "      <td>...</td>\n",
       "      <td>...</td>\n",
       "      <td>...</td>\n",
       "      <td>...</td>\n",
       "      <td>...</td>\n",
       "      <td>...</td>\n",
       "      <td>...</td>\n",
       "      <td>...</td>\n",
       "      <td>...</td>\n",
       "      <td>...</td>\n",
       "      <td>...</td>\n",
       "      <td>...</td>\n",
       "      <td>...</td>\n",
       "      <td>...</td>\n",
       "      <td>...</td>\n",
       "      <td>...</td>\n",
       "      <td>...</td>\n",
       "      <td>...</td>\n",
       "      <td>...</td>\n",
       "    </tr>\n",
       "    <tr>\n",
       "      <th>1295399</th>\n",
       "      <td>1295399</td>\n",
       "      <td>2020-06-21 01:00:08</td>\n",
       "      <td>3524574586339330</td>\n",
       "      <td>fraud_Kassulke PLC</td>\n",
       "      <td>shopping_net</td>\n",
       "      <td>977.01</td>\n",
       "      <td>Ashley</td>\n",
       "      <td>Cabrera</td>\n",
       "      <td>F</td>\n",
       "      <td>94225 Smith Springs Apt. 617</td>\n",
       "      <td>...</td>\n",
       "      <td>27.6330</td>\n",
       "      <td>-80.4031</td>\n",
       "      <td>105638</td>\n",
       "      <td>Librarian, public</td>\n",
       "      <td>1986-05-07</td>\n",
       "      <td>a83b093f0c1d9068fa0089f7c722615f</td>\n",
       "      <td>1371776408</td>\n",
       "      <td>26.888686</td>\n",
       "      <td>-80.834389</td>\n",
       "      <td>1</td>\n",
       "    </tr>\n",
       "    <tr>\n",
       "      <th>1295491</th>\n",
       "      <td>1295491</td>\n",
       "      <td>2020-06-21 01:53:35</td>\n",
       "      <td>3524574586339330</td>\n",
       "      <td>fraud_Schumm PLC</td>\n",
       "      <td>shopping_net</td>\n",
       "      <td>1210.91</td>\n",
       "      <td>Ashley</td>\n",
       "      <td>Cabrera</td>\n",
       "      <td>F</td>\n",
       "      <td>94225 Smith Springs Apt. 617</td>\n",
       "      <td>...</td>\n",
       "      <td>27.6330</td>\n",
       "      <td>-80.4031</td>\n",
       "      <td>105638</td>\n",
       "      <td>Librarian, public</td>\n",
       "      <td>1986-05-07</td>\n",
       "      <td>f75b35bed13b9e692f170dba45a15b21</td>\n",
       "      <td>1371779615</td>\n",
       "      <td>28.216707</td>\n",
       "      <td>-79.855648</td>\n",
       "      <td>1</td>\n",
       "    </tr>\n",
       "    <tr>\n",
       "      <th>1295532</th>\n",
       "      <td>1295532</td>\n",
       "      <td>2020-06-21 02:16:56</td>\n",
       "      <td>4005676619255478</td>\n",
       "      <td>fraud_Tillman, Dickinson and Labadie</td>\n",
       "      <td>gas_transport</td>\n",
       "      <td>10.24</td>\n",
       "      <td>William</td>\n",
       "      <td>Perry</td>\n",
       "      <td>M</td>\n",
       "      <td>458 Phillips Island Apt. 768</td>\n",
       "      <td>...</td>\n",
       "      <td>30.4590</td>\n",
       "      <td>-90.9027</td>\n",
       "      <td>71335</td>\n",
       "      <td>Herbalist</td>\n",
       "      <td>1994-05-31</td>\n",
       "      <td>a0ba2472cd3fc9731f2a18d3f308f5c3</td>\n",
       "      <td>1371781016</td>\n",
       "      <td>29.700456</td>\n",
       "      <td>-91.361632</td>\n",
       "      <td>1</td>\n",
       "    </tr>\n",
       "    <tr>\n",
       "      <th>1295666</th>\n",
       "      <td>1295666</td>\n",
       "      <td>2020-06-21 03:26:20</td>\n",
       "      <td>3560725013359375</td>\n",
       "      <td>fraud_Corwin-Collins</td>\n",
       "      <td>gas_transport</td>\n",
       "      <td>21.69</td>\n",
       "      <td>Brooke</td>\n",
       "      <td>Smith</td>\n",
       "      <td>F</td>\n",
       "      <td>63542 Luna Brook Apt. 012</td>\n",
       "      <td>...</td>\n",
       "      <td>31.8599</td>\n",
       "      <td>-102.7413</td>\n",
       "      <td>23</td>\n",
       "      <td>Cytogeneticist</td>\n",
       "      <td>1969-09-15</td>\n",
       "      <td>daa281350b1e16093c7b4bf97bf4d6ed</td>\n",
       "      <td>1371785180</td>\n",
       "      <td>32.675272</td>\n",
       "      <td>-103.484949</td>\n",
       "      <td>1</td>\n",
       "    </tr>\n",
       "    <tr>\n",
       "      <th>1295733</th>\n",
       "      <td>1295733</td>\n",
       "      <td>2020-06-21 03:59:46</td>\n",
       "      <td>4005676619255478</td>\n",
       "      <td>fraud_Koss and Sons</td>\n",
       "      <td>gas_transport</td>\n",
       "      <td>10.20</td>\n",
       "      <td>William</td>\n",
       "      <td>Perry</td>\n",
       "      <td>M</td>\n",
       "      <td>458 Phillips Island Apt. 768</td>\n",
       "      <td>...</td>\n",
       "      <td>30.4590</td>\n",
       "      <td>-90.9027</td>\n",
       "      <td>71335</td>\n",
       "      <td>Herbalist</td>\n",
       "      <td>1994-05-31</td>\n",
       "      <td>0c1c20470fc0d16019b5c368cadf563a</td>\n",
       "      <td>1371787186</td>\n",
       "      <td>31.363252</td>\n",
       "      <td>-89.932309</td>\n",
       "      <td>1</td>\n",
       "    </tr>\n",
       "  </tbody>\n",
       "</table>\n",
       "<p>265340 rows × 23 columns</p>\n",
       "</div>"
      ],
      "text/plain": [
       "         Unnamed: 0 trans_date_trans_time            cc_num  \\\n",
       "811778       811778   2019-12-07 10:55:06      676173792455   \n",
       "1101718     1101718   2020-04-03 13:10:06    30518206766474   \n",
       "800013       800013   2019-12-04 07:07:04  4658490815480264   \n",
       "398945       398945   2019-06-30 18:43:08  4716561796955522   \n",
       "207455       207455   2019-04-15 19:57:49  3528407217576457   \n",
       "...             ...                   ...               ...   \n",
       "1295399     1295399   2020-06-21 01:00:08  3524574586339330   \n",
       "1295491     1295491   2020-06-21 01:53:35  3524574586339330   \n",
       "1295532     1295532   2020-06-21 02:16:56  4005676619255478   \n",
       "1295666     1295666   2020-06-21 03:26:20  3560725013359375   \n",
       "1295733     1295733   2020-06-21 03:59:46  4005676619255478   \n",
       "\n",
       "                                     merchant       category      amt  \\\n",
       "811778           fraud_Zieme, Bode and Dooley  gas_transport    86.19   \n",
       "1101718                  fraud_Lind-Buckridge  entertainment    85.81   \n",
       "800013                fraud_Hackett-Lueilwitz    grocery_pos    99.30   \n",
       "398945                     fraud_Lynch-Wisozk           home    42.09   \n",
       "207455                fraud_Fisher-Schowalter   shopping_net     4.24   \n",
       "...                                       ...            ...      ...   \n",
       "1295399                    fraud_Kassulke PLC   shopping_net   977.01   \n",
       "1295491                      fraud_Schumm PLC   shopping_net  1210.91   \n",
       "1295532  fraud_Tillman, Dickinson and Labadie  gas_transport    10.24   \n",
       "1295666                  fraud_Corwin-Collins  gas_transport    21.69   \n",
       "1295733                   fraud_Koss and Sons  gas_transport    10.20   \n",
       "\n",
       "            first      last gender                         street  ...  \\\n",
       "811778   Brittany       Cox      F    07177 William Dale Apt. 547  ...   \n",
       "1101718    Tamara  Martinez      F  471 Marquez Prairie Suite 680  ...   \n",
       "800013       Tara  Richards      F          4879 Cristina Station  ...   \n",
       "398945     Lauren  Anderson      F       11014 Chad Lake Apt. 573  ...   \n",
       "207455   Patricia     Leach      F       71309 Martinez Stravenue  ...   \n",
       "...           ...       ...    ...                            ...  ...   \n",
       "1295399    Ashley   Cabrera      F   94225 Smith Springs Apt. 617  ...   \n",
       "1295491    Ashley   Cabrera      F   94225 Smith Springs Apt. 617  ...   \n",
       "1295532   William     Perry      M   458 Phillips Island Apt. 768  ...   \n",
       "1295666    Brooke     Smith      F      63542 Luna Brook Apt. 012  ...   \n",
       "1295733   William     Perry      M   458 Phillips Island Apt. 768  ...   \n",
       "\n",
       "             lat      long  city_pop                          job         dob  \\\n",
       "811778   34.0287 -118.4924     92043  Civil engineer, contracting  1961-04-25   \n",
       "1101718  36.7154  -89.6287      1019        Aeronautical engineer  1979-01-26   \n",
       "800013   39.9636  -79.7853       184            Systems developer  1945-11-04   \n",
       "398945   48.2777 -112.8456       743               Water engineer  1972-05-04   \n",
       "207455   36.4715  -82.4834     87124                Warden/ranger  1987-02-14   \n",
       "...          ...       ...       ...                          ...         ...   \n",
       "1295399  27.6330  -80.4031    105638            Librarian, public  1986-05-07   \n",
       "1295491  27.6330  -80.4031    105638            Librarian, public  1986-05-07   \n",
       "1295532  30.4590  -90.9027     71335                    Herbalist  1994-05-31   \n",
       "1295666  31.8599 -102.7413        23               Cytogeneticist  1969-09-15   \n",
       "1295733  30.4590  -90.9027     71335                    Herbalist  1994-05-31   \n",
       "\n",
       "                                trans_num   unix_time  merch_lat  merch_long  \\\n",
       "811778   f32d1f4b2a918f4c2f6acdc83033ee35  1354877706  33.287851 -118.740970   \n",
       "1101718  f5dad8e2d7c39d81502d846a20286659  1364994606  36.539950  -89.857416   \n",
       "800013   1d023bc78ab93ab65a35bbb53bcc67bd  1354604824  39.582872  -78.838550   \n",
       "398945   dbf6c06d3277438afdf7af883fb4285f  1341081788  48.310513 -112.837535   \n",
       "207455   88814660aba0101b174e1e8137f4a7af  1334519869  37.329094  -82.070746   \n",
       "...                                   ...         ...        ...         ...   \n",
       "1295399  a83b093f0c1d9068fa0089f7c722615f  1371776408  26.888686  -80.834389   \n",
       "1295491  f75b35bed13b9e692f170dba45a15b21  1371779615  28.216707  -79.855648   \n",
       "1295532  a0ba2472cd3fc9731f2a18d3f308f5c3  1371781016  29.700456  -91.361632   \n",
       "1295666  daa281350b1e16093c7b4bf97bf4d6ed  1371785180  32.675272 -103.484949   \n",
       "1295733  0c1c20470fc0d16019b5c368cadf563a  1371787186  31.363252  -89.932309   \n",
       "\n",
       "         is_fraud  \n",
       "811778          0  \n",
       "1101718         0  \n",
       "800013          0  \n",
       "398945          0  \n",
       "207455          0  \n",
       "...           ...  \n",
       "1295399         1  \n",
       "1295491         1  \n",
       "1295532         1  \n",
       "1295666         1  \n",
       "1295733         1  \n",
       "\n",
       "[265340 rows x 23 columns]"
      ]
     },
     "execution_count": 19,
     "metadata": {},
     "output_type": "execute_result"
    }
   ],
   "source": [
    "import pandas as pd\n",
    "# df = pd.read_csv(\"/Users/claudiostamile/Downloads/fraudTrain.csv\")\n",
    "df = pd.read_csv(\"../data/fraudTrain.csv\")\n",
    "df = df[df[\"is_fraud\"]==0].sample(frac=0.20, random_state=42).append(df[df[\"is_fraud\"] == 1])\n",
    "df"
   ]
  },
  {
   "cell_type": "code",
   "execution_count": 3,
   "metadata": {},
   "outputs": [
    {
     "data": {
      "text/plain": [
       "0    257834\n",
       "1      7506\n",
       "Name: is_fraud, dtype: int64"
      ]
     },
     "execution_count": 3,
     "metadata": {},
     "output_type": "execute_result"
    }
   ],
   "source": [
    "df[\"is_fraud\"].value_counts()"
   ]
  },
  {
   "cell_type": "code",
   "execution_count": 4,
   "metadata": {},
   "outputs": [],
   "source": [
    "def build_graph_bipartite(df_input, graph_type=nx.Graph()):\n",
    "    df = df_input.copy()\n",
    "    mapping = {x:node_id for node_id,x in enumerate(set(df[\"cc_num\"].values.tolist() + df[\"merchant\"].values.tolist()))}\n",
    "    df[\"from\"] = df[\"cc_num\"].apply(lambda x: mapping[x])\n",
    "    df[\"to\"] = df[\"merchant\"].apply(lambda x: mapping[x])\n",
    "    df = df[['from', 'to', \"amt\", \"is_fraud\"]].groupby(['from', 'to']).agg({\"is_fraud\": \"sum\", \"amt\": \"sum\"}).reset_index()\n",
    "    df[\"is_fraud\"] = df[\"is_fraud\"].apply(lambda x: 1 if x>0 else 0)\n",
    "    \n",
    "    G = nx.from_edgelist(df[[\"from\", \"to\"]].values, create_using=graph_type)\n",
    "    \n",
    "    nx.set_node_attributes(G,{x:1 for x in df[\"from\"].unique()}, \"bipartite\")\n",
    "    nx.set_node_attributes(G,{x:2 for x in df[\"to\"].unique()}, \"bipartite\")\n",
    "    \n",
    "    nx.set_edge_attributes(G, \n",
    "                       {(int(x[\"from\"]), int(x[\"to\"])):x[\"is_fraud\"] for idx, x in df[[\"from\",\"to\",\"is_fraud\"]].iterrows()}, \n",
    "                       \"label\")\n",
    "\n",
    "    nx.set_edge_attributes(G, \n",
    "                       {(int(x[\"from\"]), int(x[\"to\"])):x[\"amt\"] for idx, x in df[[\"from\",\"to\",\"amt\"]].iterrows()}, \n",
    "                       \"weight\")\n",
    "    return G"
   ]
  },
  {
   "cell_type": "code",
   "execution_count": 5,
   "metadata": {},
   "outputs": [],
   "source": [
    "def build_graph_tripartite(df_input, graph_type=nx.Graph()):\n",
    "    df = df_input.copy()\n",
    "    mapping = {x:node_id for node_id,x in enumerate(set(df.index.values.tolist() + \n",
    "                                                        df[\"cc_num\"].values.tolist() + \n",
    "                                                        df[\"merchant\"].values.tolist()))}\n",
    "    df[\"in_node\"] = df[\"cc_num\"].apply(lambda x: mapping[x])\n",
    "    df[\"out_node\"] = df[\"merchant\"].apply(lambda x: mapping[x])\n",
    "\n",
    "    G = nx.from_edgelist([(x[\"in_node\"], mapping[idx]) for idx, x in df.iterrows()] +\n",
    "                         [(x[\"out_node\"], mapping[idx]) for idx, x in df.iterrows()], \n",
    "                         create_using=graph_type)\n",
    "\n",
    "    nx.set_node_attributes(G,{x[\"in_node\"]:1 for idx,x in df.iterrows()}, \"bipartite\")\n",
    "    nx.set_node_attributes(G,{x[\"out_node\"]:2 for idx,x in df.iterrows()}, \"bipartite\")\n",
    "    nx.set_node_attributes(G,{mapping[idx]:3 for idx, x in df.iterrows()}, \"bipartite\")\n",
    "\n",
    "    nx.set_edge_attributes(G,{(x[\"in_node\"], mapping[idx]):x[\"is_fraud\"] for idx, x in df.iterrows()}, \"label\")\n",
    "    nx.set_edge_attributes(G,{(x[\"out_node\"], mapping[idx]):x[\"is_fraud\"] for idx, x in df.iterrows()}, \"label\")\n",
    "\n",
    "    nx.set_edge_attributes(G,{(x[\"in_node\"], mapping[idx]):x[\"amt\"] for idx, x in df.iterrows()}, \"weight\")\n",
    "    nx.set_edge_attributes(G,{(x[\"out_node\"], mapping[idx]):x[\"amt\"] for idx, x in df.iterrows()}, \"weight\")\n",
    "    return G"
   ]
  },
  {
   "cell_type": "code",
   "execution_count": 6,
   "metadata": {},
   "outputs": [],
   "source": [
    "G = build_graph_bipartite(df, nx.Graph())"
   ]
  },
  {
   "cell_type": "code",
   "execution_count": 7,
   "metadata": {},
   "outputs": [
    {
     "data": {
      "text/plain": [
       "True"
      ]
     },
     "execution_count": 7,
     "metadata": {},
     "output_type": "execute_result"
    }
   ],
   "source": [
    "from networkx.algorithms import bipartite\n",
    "bipartite.is_bipartite(G)"
   ]
  },
  {
   "cell_type": "code",
   "execution_count": 8,
   "metadata": {},
   "outputs": [
    {
     "name": "stderr",
     "output_type": "stream",
     "text": [
      "/home/studio-lab-user/.conda/envs/my37g/lib/python3.7/site-packages/networkx/drawing/nx_pylab.py:579: MatplotlibDeprecationWarning: \n",
      "The iterable function was deprecated in Matplotlib 3.1 and will be removed in 3.3. Use np.iterable instead.\n",
      "  if not cb.iterable(width):\n"
     ]
    },
    {
     "data": {
      "image/png": "[encoded data removed]",
      "text/plain": [
       "<Figure size 720x720 with 1 Axes>"
      ]
     },
     "metadata": {},
     "output_type": "display_data"
    }
   ],
   "source": [
    "plt.figure(figsize=(10,10))\n",
    "top = nx.bipartite.sets(G)[0]\n",
    "pos = nx.bipartite_layout(G, top)\n",
    "nx.draw(G, pos=pos, with_labels=False, node_color=default_node_color, edge_color=default_edge_color)\n",
    "plt.show()"
   ]
  },
  {
   "cell_type": "code",
   "execution_count": 10,
   "metadata": {},
   "outputs": [
    {
     "data": {
      "image/png": "[encoded data removed]",
      "text/plain": [
       "<Figure size 432x288 with 1 Axes>"
      ]
     },
     "metadata": {
      "needs_background": "light"
     },
     "output_type": "display_data"
    },
    {
     "data": {
      "image/png": "[encoded data removed]",
      "text/plain": [
       "<Figure size 720x720 with 1 Axes>"
      ]
     },
     "metadata": {},
     "output_type": "display_data"
    }
   ],
   "source": [
    "plt.axis(\"off\")\n",
    "plt.figure(figsize=(10,10))\n",
    "\n",
    "spring_pos = nx.spring_layout(G)\n",
    "nx.draw_networkx(G, pos=spring_pos, node_color=default_node_color, \n",
    "                 edges_color=default_edge_color, with_labels=False, node_size=15)"
   ]
  },
  {
   "cell_type": "markdown",
   "metadata": {
    "id": "2z2PCthzneat"
   },
   "source": [
    "## Network Analysis"
   ]
  },
  {
   "cell_type": "code",
   "execution_count": null,
   "metadata": {
    "jupyter": {
     "source_hidden": true
    },
    "tags": []
   },
   "outputs": [],
   "source": [
    "print(nx.info(G))"
   ]
  },
  {
   "cell_type": "code",
   "execution_count": null,
   "metadata": {
    "jupyter": {
     "source_hidden": true
    },
    "tags": []
   },
   "outputs": [],
   "source": [
    "plt.figure(figsize=(10,10))\n",
    "degrees = pd.Series({k: v for k, v in nx.degree(G)})\n",
    "degrees.plot.hist()\n",
    "plt.yscale(\"log\")"
   ]
  },
  {
   "cell_type": "code",
   "execution_count": null,
   "metadata": {
    "jupyter": {
     "source_hidden": true
    },
    "tags": []
   },
   "outputs": [],
   "source": [
    "allEdgesWeights = pd.Series({(d[0], d[1]): d[2][\"weight\"] for d in G.edges(data=True)})\n",
    "np.quantile(allEdgesWeights.values,[0.10,0.50,0.70,0.9,1.0])"
   ]
  },
  {
   "cell_type": "code",
   "execution_count": null,
   "metadata": {
    "jupyter": {
     "source_hidden": true
    },
    "tags": []
   },
   "outputs": [],
   "source": [
    "quant_dist = np.quantile(allEdgesWeights.values,[0.10,0.50,0.70,0.9])\n",
    "quant_dist"
   ]
  },
  {
   "cell_type": "code",
   "execution_count": null,
   "metadata": {
    "jupyter": {
     "source_hidden": true
    },
    "tags": []
   },
   "outputs": [],
   "source": [
    "allEdgesWeightsFiltered = pd.Series({(d[0], d[1]): d[2][\"weight\"] for d in G.edges(data=True) \n",
    "                                     if d[2][\"weight\"] < quant_dist[-1]})"
   ]
  },
  {
   "cell_type": "code",
   "execution_count": null,
   "metadata": {
    "jupyter": {
     "source_hidden": true
    },
    "tags": []
   },
   "outputs": [],
   "source": [
    "plt.figure(figsize=(10,10))\n",
    "allEdgesWeightsFiltered.plot.hist(bins=40)\n",
    "plt.yscale(\"log\")"
   ]
  },
  {
   "cell_type": "code",
   "execution_count": null,
   "metadata": {
    "jupyter": {
     "source_hidden": true
    },
    "tags": []
   },
   "outputs": [],
   "source": [
    "plt.figure(figsize=(10,10))\n",
    "bC = nx.betweenness_centrality(G)\n",
    "bc_distr = pd.Series(bC)\n",
    "bc_distr.plot.hist()\n",
    "plt.yscale(\"log\")"
   ]
  },
  {
   "cell_type": "code",
   "execution_count": null,
   "metadata": {
    "colab": {
     "base_uri": "https://localhost:8080/"
    },
    "id": "gPMC9VDyuF5F",
    "jupyter": {
     "source_hidden": true
    },
    "outputId": "871111c8-12b4-4820-8675-f74fccdd39e6",
    "scrolled": true,
    "tags": []
   },
   "outputs": [],
   "source": [
    "np.mean(list(bC.values()))"
   ]
  },
  {
   "cell_type": "code",
   "execution_count": null,
   "metadata": {
    "colab": {
     "base_uri": "https://localhost:8080/"
    },
    "id": "94viGU4vserg",
    "jupyter": {
     "source_hidden": true
    },
    "outputId": "ea65df57-df57-4e51-f396-9c808f274766",
    "tags": []
   },
   "outputs": [],
   "source": [
    "# degree centrality\n",
    "plt.figure(figsize=(10,10))\n",
    "deg_C = nx.degree_centrality(G)\n",
    "degc_distr = pd.Series(deg_C)\n",
    "degc_distr.plot.hist()"
   ]
  },
  {
   "cell_type": "code",
   "execution_count": null,
   "metadata": {
    "colab": {
     "base_uri": "https://localhost:8080/"
    },
    "id": "vLp2CBJHtC1d",
    "jupyter": {
     "source_hidden": true
    },
    "outputId": "c1ad4b5d-4d77-4ac1-84ce-6210fd7dc11f",
    "tags": []
   },
   "outputs": [],
   "source": [
    "# closeness centrality\n",
    "plt.figure(figsize=(10,10))\n",
    "clos_C = nx.closeness_centrality(G)\n",
    "closc_distr = pd.Series(clos_C)\n",
    "closc_distr.plot.hist()"
   ]
  },
  {
   "cell_type": "code",
   "execution_count": null,
   "metadata": {
    "jupyter": {
     "source_hidden": true
    },
    "tags": []
   },
   "outputs": [],
   "source": [
    "np.mean(list(clos_C.values()))"
   ]
  },
  {
   "cell_type": "code",
   "execution_count": null,
   "metadata": {
    "colab": {
     "base_uri": "https://localhost:8080/"
    },
    "id": "MQOah_yDtbaW",
    "jupyter": {
     "source_hidden": true
    },
    "outputId": "558fc1ea-f457-4386-b5ce-8dc61f8f0115",
    "tags": []
   },
   "outputs": [],
   "source": [
    "# assortativity\n",
    "nx.degree_pearson_correlation_coefficient(G)"
   ]
  },
  {
   "cell_type": "markdown",
   "metadata": {
    "id": "c8peWeN9nh1m"
   },
   "source": [
    "### Community Detection"
   ]
  },
  {
   "cell_type": "code",
   "execution_count": null,
   "metadata": {
    "jupyter": {
     "source_hidden": true
    },
    "tags": []
   },
   "outputs": [],
   "source": [
    "import community\n",
    "\n",
    "parts = community.best_partition(G, random_state=42, weight='weight')"
   ]
  },
  {
   "cell_type": "code",
   "execution_count": null,
   "metadata": {
    "jupyter": {
     "source_hidden": true
    },
    "tags": []
   },
   "outputs": [],
   "source": [
    "communities = pd.Series(parts)\n",
    "communities.value_counts().sort_values(ascending=False)"
   ]
  },
  {
   "cell_type": "code",
   "execution_count": null,
   "metadata": {
    "jupyter": {
     "source_hidden": true
    },
    "tags": []
   },
   "outputs": [],
   "source": [
    "graphs = []\n",
    "d = {}\n",
    "for x in communities.unique():\n",
    "    tmp = nx.subgraph(G, communities[communities==x].index)\n",
    "    fraud_edges = sum(nx.get_edge_attributes(tmp, \"label\").values())\n",
    "    ratio = 0 if fraud_edges == 0 else (fraud_edges/tmp.number_of_edges())*100\n",
    "    d[x] = ratio\n",
    "    graphs += [tmp]\n",
    "\n",
    "pd.Series(d).sort_values(ascending=False)"
   ]
  },
  {
   "cell_type": "code",
   "execution_count": null,
   "metadata": {
    "jupyter": {
     "source_hidden": true
    },
    "tags": []
   },
   "outputs": [],
   "source": [
    "gId = 10\n",
    "plt.figure(figsize=(10,10))\n",
    "spring_pos = nx.spring_layout(graphs[gId])\n",
    "plt.axis(\"off\")\n",
    "edge_colors = [\"r\" if x == 1 else \"g\" for x in nx.get_edge_attributes(graphs[gId], 'label').values()]\n",
    "nx.draw_networkx(graphs[gId], pos=spring_pos, node_color=default_node_color, \n",
    "                 edge_color=edge_colors, with_labels=False, node_size=15)"
   ]
  },
  {
   "cell_type": "markdown",
   "metadata": {},
   "source": [
    "## Supervised Learning"
   ]
  },
  {
   "cell_type": "code",
   "execution_count": 11,
   "metadata": {},
   "outputs": [
    {
     "name": "stdout",
     "output_type": "stream",
     "text": [
      "1    7506\n",
      "0    7506\n",
      "Name: is_fraud, dtype: int64\n"
     ]
    }
   ],
   "source": [
    "from sklearn.utils import resample\n",
    "\n",
    "df_majority = df[df.is_fraud==0]\n",
    "df_minority = df[df.is_fraud==1]\n",
    "\n",
    "df_maj_dowsampled = resample(df_majority,\n",
    "                             n_samples=len(df_minority),\n",
    "                             random_state=42)\n",
    "\n",
    "df_downsampled = pd.concat([df_minority, df_maj_dowsampled])\n",
    "\n",
    "print(df_downsampled.is_fraud.value_counts())\n",
    "G_down = build_graph_bipartite(df_downsampled)"
   ]
  },
  {
   "cell_type": "code",
   "execution_count": 12,
   "metadata": {},
   "outputs": [],
   "source": [
    "from sklearn.model_selection import train_test_split\n",
    "\n",
    "\n",
    "train_edges, test_edges, train_labels, test_labels = train_test_split(list(range(len(G_down.edges))), \n",
    "                                                                      list(nx.get_edge_attributes(G_down, \"label\").values()), \n",
    "                                                                      test_size=0.20, \n",
    "                                                                      random_state=42)"
   ]
  },
  {
   "cell_type": "code",
   "execution_count": 13,
   "metadata": {},
   "outputs": [],
   "source": [
    "edgs = list(G_down.edges)\n",
    "train_graph = G_down.edge_subgraph([edgs[x] for x in train_edges]).copy()\n",
    "train_graph.add_nodes_from(list(set(G_down.nodes) - set(train_graph.nodes)))"
   ]
  },
  {
   "cell_type": "code",
   "execution_count": 14,
   "metadata": {},
   "outputs": [
    {
     "name": "stderr",
     "output_type": "stream",
     "text": [
      "Computing transition probabilities: 100%|██████████| 1672/1672 [00:02<00:00, 577.64it/s]\n",
      "Generating walks (CPU: 1): 100%|██████████| 10/10 [00:48<00:00,  4.88s/it]\n"
     ]
    }
   ],
   "source": [
    "from node2vec import Node2Vec\n",
    "from node2vec.edges import HadamardEmbedder, AverageEmbedder, WeightedL1Embedder, WeightedL2Embedder\n",
    "\n",
    "node2vec_train = Node2Vec(train_graph, weight_key='weight')\n",
    "model_train = node2vec_train.fit(window=10)\n"
   ]
  },
  {
   "cell_type": "code",
   "execution_count": 15,
   "metadata": {},
   "outputs": [
    {
     "name": "stdout",
     "output_type": "stream",
     "text": [
      "<class 'node2vec.edges.HadamardEmbedder'>\n",
      "Precision: 0.7652859960552268\n",
      "Recall: 0.5197588747488279\n",
      "F1-Score: 0.6190666134822497\n",
      "<class 'node2vec.edges.AverageEmbedder'>\n",
      "Precision: 0.7341211225997046\n",
      "Recall: 0.6657736101808439\n",
      "F1-Score: 0.698278890059712\n",
      "<class 'node2vec.edges.WeightedL1Embedder'>\n",
      "Precision: 0.6166259168704157\n",
      "Recall: 0.8446081714668453\n",
      "F1-Score: 0.712832108535896\n",
      "<class 'node2vec.edges.WeightedL2Embedder'>\n",
      "Precision: 0.618208516886931\n",
      "Recall: 0.8459477561955794\n",
      "F1-Score: 0.7143665158371042\n"
     ]
    }
   ],
   "source": [
    "from sklearn.ensemble import RandomForestClassifier \n",
    "from sklearn import metrics \n",
    "\n",
    "classes = [HadamardEmbedder, AverageEmbedder, WeightedL1Embedder, WeightedL2Embedder]\n",
    "for cl in classes:\n",
    "    embeddings_train = cl(keyed_vectors=model_train.wv) \n",
    "\n",
    "    train_embeddings = [embeddings_train[str(edgs[x][0]), str(edgs[x][1])] for x in train_edges]\n",
    "    test_embeddings = [embeddings_train[str(edgs[x][0]), str(edgs[x][1])] for x in test_edges]\n",
    "    \n",
    "    rf = RandomForestClassifier(n_estimators=1000, random_state=42) \n",
    "    rf.fit(train_embeddings, train_labels); \n",
    "\n",
    "    y_pred = rf.predict(test_embeddings)\n",
    "    print(cl)\n",
    "    print('Precision:', metrics.precision_score(test_labels, y_pred)) \n",
    "    print('Recall:', metrics.recall_score(test_labels, y_pred)) \n",
    "    print('F1-Score:', metrics.f1_score(test_labels, y_pred)) "
   ]
  },
  {
   "cell_type": "markdown",
   "metadata": {
    "id": "R4Vk5GnxcWF2"
   },
   "source": [
    "## Unupervised Learning"
   ]
  },
  {
   "cell_type": "code",
   "execution_count": 16,
   "metadata": {},
   "outputs": [
    {
     "name": "stderr",
     "output_type": "stream",
     "text": [
      "Computing transition probabilities: 100%|██████████| 1672/1672 [00:03<00:00, 470.27it/s]\n",
      "Generating walks (CPU: 1): 100%|██████████| 10/10 [00:52<00:00,  5.28s/it]\n"
     ]
    }
   ],
   "source": [
    "nod2vec_unsup = Node2Vec(G_down, weight_key='weight')\n",
    "unsup_vals = nod2vec_unsup.fit(window=10)"
   ]
  },
  {
   "cell_type": "code",
   "execution_count": 17,
   "metadata": {},
   "outputs": [
    {
     "name": "stdout",
     "output_type": "stream",
     "text": [
      "<class 'node2vec.edges.HadamardEmbedder'>\n",
      "NMI: 0.3434761733070354\n",
      "Homogeneity: 0.33186917904313046\n",
      "Completeness: 0.3559965316541601\n",
      "V-Measure: 0.34350971378557277\n",
      "<class 'node2vec.edges.AverageEmbedder'>\n",
      "NMI: 0.07509163068752496\n",
      "Homogeneity: 0.07434583487085315\n",
      "Completeness: 0.0759467520741665\n",
      "V-Measure: 0.07513776698446421\n",
      "<class 'node2vec.edges.WeightedL1Embedder'>\n",
      "NMI: 0.06292837593355008\n",
      "Homogeneity: 0.06297662275863868\n",
      "Completeness: 0.0629726266511482\n",
      "V-Measure: 0.06297462464149936\n",
      "<class 'node2vec.edges.WeightedL2Embedder'>\n",
      "NMI: 0.05118782384823713\n",
      "Homogeneity: 0.05066598619086717\n",
      "Completeness: 0.05181730760841758\n",
      "V-Measure: 0.0512351797918955\n"
     ]
    }
   ],
   "source": [
    "from sklearn.cluster import KMeans\n",
    "\n",
    "classes = [HadamardEmbedder, AverageEmbedder, WeightedL1Embedder, WeightedL2Embedder]\n",
    "true_labels = [x for x in nx.get_edge_attributes(G_down, \"label\").values()]\n",
    "\n",
    "for cl in classes:\n",
    "    embedding_edge = cl(keyed_vectors=unsup_vals.wv) \n",
    "\n",
    "    embedding = [embedding_edge[str(x[0]), str(x[1])] for x in G_down.edges()]\n",
    "    kmeans = KMeans(2, random_state=42).fit(embedding)\n",
    "    \n",
    "    \n",
    "    nmi = metrics.adjusted_mutual_info_score(true_labels, kmeans.labels_)\n",
    "    ho = metrics.homogeneity_score(true_labels, kmeans.labels_)\n",
    "    co = metrics.completeness_score(true_labels, kmeans.labels_)\n",
    "    vmeasure = metrics.v_measure_score(true_labels, kmeans.labels_)\n",
    "    \n",
    "    print(cl)\n",
    "    print('NMI:', nmi)\n",
    "    print('Homogeneity:', ho)\n",
    "    print('Completeness:', co)\n",
    "    print('V-Measure:', vmeasure)"
   ]
  }
 ],
 "metadata": {
  "colab": {
   "collapsed_sections": [],
   "name": "socialNetwork.ipynb",
   "provenance": [],
   "toc_visible": true
  },
  "kernelspec": {
   "display_name": "my37g:Python",
   "language": "python",
   "name": "conda-env-my37g-py"
  },
  "language_info": {
   "codemirror_mode": {
    "name": "ipython",
    "version": 3
   },
   "file_extension": ".py",
   "mimetype": "text/x-python",
   "name": "python",
   "nbconvert_exporter": "python",
   "pygments_lexer": "ipython3",
   "version": "3.7.12"
  }
 },
 "nbformat": 4,
 "nbformat_minor": 4
}
